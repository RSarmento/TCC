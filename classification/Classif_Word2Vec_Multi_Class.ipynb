{
 "cells": [
  {
   "cell_type": "code",
   "execution_count": 44,
   "metadata": {
    "pycharm": {
     "is_executing": false
    }
   },
   "outputs": [
    {
     "name": "stdout",
     "text": [
      "Python: 3.6.3 (default, Oct  3 2017, 21:45:48) \n[GCC 7.2.0]\nNLTK: 3.4.4\nScikit-learn: 0.21.3\nPandas: 0.25.0\nNumpy: 1.17.0\n"
     ],
     "output_type": "stream"
    }
   ],
   "source": [
    "import sys\n",
    "import nltk\n",
    "import sklearn\n",
    "import pandas\n",
    "import numpy\n",
    "\n",
    "print('Python: {}'.format(sys.version))\n",
    "print('NLTK: {}'.format(nltk.__version__))\n",
    "print('Scikit-learn: {}'.format(sklearn.__version__))\n",
    "print('Pandas: {}'.format(pandas.__version__))\n",
    "print('Numpy: {}'.format(numpy.__version__))"
   ]
  },
  {
   "cell_type": "code",
   "execution_count": 45,
   "metadata": {
    "pycharm": {
     "is_executing": false
    }
   },
   "outputs": [
    {
     "name": "stdout",
     "text": [
      "<class 'pandas.core.frame.DataFrame'>\nRangeIndex: 793 entries, 0 to 792\nData columns (total 2 columns):\n0    793 non-null object\n1    793 non-null object\ndtypes: object(2)\nmemory usage: 12.5+ KB\nNone\n       0                                                  1\n0    stj  pretensa estadual deduz apel extrem esbarr ved...\n1      n  embarg insist mesm razo recurs apresent oposic...\n2      n  acorda ora recorr nao neg vigenc direit federa...\n3  civil  tribunal justic assent compreensa part det leg...\n4      n  segund jurisprudenc superior tribunal justic a...\n"
     ],
     "output_type": "stream"
    }
   ],
   "source": [
    "# Carregando dados\n",
    "import pandas as pd\n",
    "\n",
    "df = pd.read_csv('../data/dataset_classes_dez_mais.txt', header=None, encoding='utf-8', sep='\\t')\n",
    "df.fillna('x', inplace=True)\n",
    "#df_classes_raw = pd.read_csv('data/classes_raw.txt', header=None, encoding='utf-8', sep='\\t')\n",
    "print(df.info())\n",
    "print(df.head())"
   ]
  },
  {
   "cell_type": "code",
   "execution_count": 71,
   "metadata": {
    "pycharm": {
     "is_executing": false
    }
   },
   "outputs": [
    {
     "name": "stdout",
     "text": [
      "0         stj\n1           n\n2           n\n3       civil\n4           n\n        ...  \n788    embarg\n789     civil\n790         n\n791    outros\n792         n\nName: 0, Length: 793, dtype: object\n11\n"
     ],
     "output_type": "stream"
    },
    {
     "data": {
      "text/plain": "<pandas.io.formats.style.Styler at 0x7f5bc392e438>",
      "text/html": "<style  type=\"text/css\" >\n    #T_659ffc26_c05e_11e9_be50_d05099a0e2b9row0_col0 {\n            width:  10em;\n             height:  80%;\n            background:  linear-gradient(90deg,#d65f5f 100.0%, transparent 100.0%);\n        }    #T_659ffc26_c05e_11e9_be50_d05099a0e2b9row1_col0 {\n            width:  10em;\n             height:  80%;\n            background:  linear-gradient(90deg,#d65f5f 99.5%, transparent 99.5%);\n        }    #T_659ffc26_c05e_11e9_be50_d05099a0e2b9row2_col0 {\n            width:  10em;\n             height:  80%;\n            background:  linear-gradient(90deg,#d65f5f 67.9%, transparent 67.9%);\n        }    #T_659ffc26_c05e_11e9_be50_d05099a0e2b9row3_col0 {\n            width:  10em;\n             height:  80%;\n            background:  linear-gradient(90deg,#d65f5f 50.8%, transparent 50.8%);\n        }    #T_659ffc26_c05e_11e9_be50_d05099a0e2b9row4_col0 {\n            width:  10em;\n             height:  80%;\n            background:  linear-gradient(90deg,#d65f5f 32.6%, transparent 32.6%);\n        }    #T_659ffc26_c05e_11e9_be50_d05099a0e2b9row5_col0 {\n            width:  10em;\n             height:  80%;\n            background:  linear-gradient(90deg,#d65f5f 22.3%, transparent 22.3%);\n        }    #T_659ffc26_c05e_11e9_be50_d05099a0e2b9row6_col0 {\n            width:  10em;\n             height:  80%;\n            background:  linear-gradient(90deg,#d65f5f 11.4%, transparent 11.4%);\n        }    #T_659ffc26_c05e_11e9_be50_d05099a0e2b9row7_col0 {\n            width:  10em;\n             height:  80%;\n            background:  linear-gradient(90deg,#d65f5f 10.9%, transparent 10.9%);\n        }    #T_659ffc26_c05e_11e9_be50_d05099a0e2b9row8_col0 {\n            width:  10em;\n             height:  80%;\n            background:  linear-gradient(90deg,#d65f5f 2.6%, transparent 2.6%);\n        }    #T_659ffc26_c05e_11e9_be50_d05099a0e2b9row9_col0 {\n            width:  10em;\n             height:  80%;\n            background:  linear-gradient(90deg,#d65f5f 1.6%, transparent 1.6%);\n        }    #T_659ffc26_c05e_11e9_be50_d05099a0e2b9row10_col0 {\n            width:  10em;\n             height:  80%;\n        }</style><table id=\"T_659ffc26_c05e_11e9_be50_d05099a0e2b9\" ><thead>    <tr>        <th class=\"blank level0\" ></th>        <th class=\"col_heading level0 col0\" >0</th>    </tr></thead><tbody>\n                <tr>\n                        <th id=\"T_659ffc26_c05e_11e9_be50_d05099a0e2b9level0_row0\" class=\"row_heading level0 row0\" >embarg</th>\n                        <td id=\"T_659ffc26_c05e_11e9_be50_d05099a0e2b9row0_col0\" class=\"data row0 col0\" >195</td>\n            </tr>\n            <tr>\n                        <th id=\"T_659ffc26_c05e_11e9_be50_d05099a0e2b9level0_row1\" class=\"row_heading level0 row1\" >civil</th>\n                        <td id=\"T_659ffc26_c05e_11e9_be50_d05099a0e2b9row1_col0\" class=\"data row1 col0\" >194</td>\n            </tr>\n            <tr>\n                        <th id=\"T_659ffc26_c05e_11e9_be50_d05099a0e2b9level0_row2\" class=\"row_heading level0 row2\" >n</th>\n                        <td id=\"T_659ffc26_c05e_11e9_be50_d05099a0e2b9row2_col0\" class=\"data row2 col0\" >133</td>\n            </tr>\n            <tr>\n                        <th id=\"T_659ffc26_c05e_11e9_be50_d05099a0e2b9level0_row3\" class=\"row_heading level0 row3\" >outros</th>\n                        <td id=\"T_659ffc26_c05e_11e9_be50_d05099a0e2b9row3_col0\" class=\"data row3 col0\" >100</td>\n            </tr>\n            <tr>\n                        <th id=\"T_659ffc26_c05e_11e9_be50_d05099a0e2b9level0_row4\" class=\"row_heading level0 row4\" >recurs</th>\n                        <td id=\"T_659ffc26_c05e_11e9_be50_d05099a0e2b9row4_col0\" class=\"data row4 col0\" >65</td>\n            </tr>\n            <tr>\n                        <th id=\"T_659ffc26_c05e_11e9_be50_d05099a0e2b9level0_row5\" class=\"row_heading level0 row5\" >process</th>\n                        <td id=\"T_659ffc26_c05e_11e9_be50_d05099a0e2b9row5_col0\" class=\"data row5 col0\" >45</td>\n            </tr>\n            <tr>\n                        <th id=\"T_659ffc26_c05e_11e9_be50_d05099a0e2b9level0_row6\" class=\"row_heading level0 row6\" >regimental</th>\n                        <td id=\"T_659ffc26_c05e_11e9_be50_d05099a0e2b9row6_col0\" class=\"data row6 col0\" >24</td>\n            </tr>\n            <tr>\n                        <th id=\"T_659ffc26_c05e_11e9_be50_d05099a0e2b9level0_row7\" class=\"row_heading level0 row7\" >stj</th>\n                        <td id=\"T_659ffc26_c05e_11e9_be50_d05099a0e2b9row7_col0\" class=\"data row7 col0\" >23</td>\n            </tr>\n            <tr>\n                        <th id=\"T_659ffc26_c05e_11e9_be50_d05099a0e2b9level0_row8\" class=\"row_heading level0 row8\" >agrav</th>\n                        <td id=\"T_659ffc26_c05e_11e9_be50_d05099a0e2b9row8_col0\" class=\"data row8 col0\" >7</td>\n            </tr>\n            <tr>\n                        <th id=\"T_659ffc26_c05e_11e9_be50_d05099a0e2b9level0_row9\" class=\"row_heading level0 row9\" >sumul</th>\n                        <td id=\"T_659ffc26_c05e_11e9_be50_d05099a0e2b9row9_col0\" class=\"data row9 col0\" >5</td>\n            </tr>\n            <tr>\n                        <th id=\"T_659ffc26_c05e_11e9_be50_d05099a0e2b9level0_row10\" class=\"row_heading level0 row10\" >especial</th>\n                        <td id=\"T_659ffc26_c05e_11e9_be50_d05099a0e2b9row10_col0\" class=\"data row10 col0\" >2</td>\n            </tr>\n    </tbody></table>"
     },
     "metadata": {},
     "output_type": "execute_result",
     "execution_count": 71
    }
   ],
   "source": [
    "# verificação das classes dos acórdãos\n",
    "\n",
    "classes = df[0]\n",
    "print(classes)\n",
    "print(len(classes.value_counts()))\n",
    "classes.value_counts().to_frame().style.bar()"
   ]
  },
  {
   "cell_type": "code",
   "execution_count": 47,
   "metadata": {
    "pycharm": {
     "is_executing": false
    }
   },
   "outputs": [
    {
     "name": "stdout",
     "text": [
      "[9 4 4 1 4 5 6 6 4 0]\n"
     ],
     "output_type": "stream"
    },
    {
     "data": {
      "text/plain": "793"
     },
     "metadata": {},
     "output_type": "execute_result",
     "execution_count": 47
    }
   ],
   "source": [
    "from sklearn.preprocessing import LabelEncoder\n",
    "\n",
    "# convertendo classes\n",
    "encoder = LabelEncoder()\n",
    "classes = encoder.fit_transform(classes)\n",
    "\n",
    "print(classes[:10])\n",
    "len(classes)"
   ]
  },
  {
   "cell_type": "code",
   "execution_count": 48,
   "metadata": {
    "pycharm": {
     "is_executing": false
    }
   },
   "outputs": [
    {
     "name": "stdout",
     "text": [
      "0    pretensa estadual deduz apel extrem esbarr ved...\n1    embarg insist mesm razo recurs apresent oposic...\n2    acorda ora recorr nao neg vigenc direit federa...\n3    tribunal justic assent compreensa part det leg...\n4    segund jurisprudenc superior tribunal justic a...\n5    sobrest recurs especial ate julgament recurs e...\n6    inadmissivel exigenc recolh reu prisa requisit...\n7    dentr limit leg vez caracteriz reincidenc agra...\n8    sobr prescrica aca repetica indebit tributari ...\n9    tratas agrav instrument interpost contr decisa...\nName: 1, dtype: object\n"
     ],
     "output_type": "stream"
    }
   ],
   "source": [
    "# criação da lista de ementas\n",
    "\n",
    "ementas = df[1]\n",
    "print(ementas[:10])"
   ]
  },
  {
   "cell_type": "code",
   "execution_count": 49,
   "metadata": {
    "pycharm": {
     "is_executing": false
    }
   },
   "outputs": [
    {
     "name": "stdout",
     "text": [
      "Word2Vec(vocab=3183, size=100, alpha=0.025)\n"
     ],
     "output_type": "stream"
    }
   ],
   "source": [
    "# uso de word2vec para a extração de features\n",
    "\n",
    "from gensim.models import Word2Vec\n",
    "\n",
    "ementas_list = [word for word in ementas.iteritems()]\n",
    "ementas_list_list = []\n",
    "for doc in ementas_list:\n",
    "    ementas_list_list.append(doc[1].split())\n",
    "\n",
    "X = Word2Vec(ementas_list_list, min_count=2)\n",
    "X.wv.init_sims() # para inicializar model.vw.syn0norm, necessário para o cálculo da média da\n",
    "print(X)"
   ]
  },
  {
   "cell_type": "code",
   "execution_count": 50,
   "metadata": {
    "pycharm": {
     "is_executing": false
    }
   },
   "outputs": [],
   "source": [
    "# funções para calcular a média vetorial das palavras de cada ementa\n",
    "import numpy as np\n",
    "\n",
    "def word_averaging(wv, words):\n",
    "    all_words, mean = set(), []\n",
    "    \n",
    "    for word in words:\n",
    "        if isinstance(word, np.ndarray):\n",
    "            mean.append(word)\n",
    "        elif word in wv.vocab:\n",
    "            mean.append(wv.vectors[wv.vocab[word].index])\n",
    "            all_words.add(wv.vocab[word].index)\n",
    "\n",
    "    if not mean:\n",
    "        print(\"cannot compute similarity with no input %s\", words)\n",
    "        # FIXME: remove these examples in pre-processing\n",
    "        return np.zeros(wv.vector_size,)\n",
    "\n",
    "    mean = gensim.matutils.unitvec(np.array(mean).mean(axis=0)).astype(np.float32)\n",
    "    return mean\n",
    "\n",
    "def  word_averaging_list(wv, text_list):\n",
    "    return np.vstack([word_averaging(wv, post) for post in text_list ])"
   ]
  },
  {
   "cell_type": "code",
   "execution_count": 51,
   "metadata": {
    "pycharm": {
     "is_executing": false
    }
   },
   "outputs": [],
   "source": [
    "# função para tokenizar as palavras com frequência maior que 2\n",
    "import nltk\n",
    "\n",
    "\n",
    "def w2v_tokenize_text(text):    \n",
    "    tokens = []\n",
    "    for sent in nltk.sent_tokenize(text, language='portuguese'):\n",
    "        for word in nltk.word_tokenize(sent, language='portuguese'):\n",
    "            if len(word) < 2:\n",
    "                continue\n",
    "            tokens.append(word)\n",
    "    return tokens"
   ]
  },
  {
   "cell_type": "code",
   "execution_count": 65,
   "outputs": [
    {
     "name": "stdout",
     "text": [
      "cannot compute similarity with no input %s []\ncannot compute similarity with no input %s []\ncannot compute similarity with no input %s []\ncannot compute similarity with no input %s []\ncannot compute similarity with no input %s []\ncannot compute similarity with no input %s []\ncannot compute similarity with no input %s []\ncannot compute similarity with no input %s []\ncannot compute similarity with no input %s []\ncannot compute similarity with no input %s []\ncannot compute similarity with no input %s []\ncannot compute similarity with no input %s []\ncannot compute similarity with no input %s []\ncannot compute similarity with no input %s []\ncannot compute similarity with no input %s []\ncannot compute similarity with no input %s []\n",
      "cannot compute similarity with no input %s []\ntrain: 634,634\n"
     ],
     "output_type": "stream"
    }
   ],
   "source": [
    "# Like any other supervised machine learning problem, we need to divide data into \n",
    "# 20% test set and 80% training set\n",
    "\n",
    "import gensim\n",
    "from sklearn.model_selection import train_test_split\n",
    "from gensim.models import Word2Vec\n",
    "\n",
    "\n",
    "train, test = train_test_split(df, test_size=0.2, random_state=0)\n",
    "\n",
    "test_tokenized = test.apply(lambda r: w2v_tokenize_text(r[1]), axis=1).values\n",
    "train_tokenized = train.apply(lambda r: w2v_tokenize_text(r[1]), axis=1).values\n",
    "\n",
    "X_train = word_averaging_list(X.wv,train_tokenized)\n",
    "X_test = word_averaging_list(X.wv,test_tokenized)\n",
    "\n",
    "y_train = train[0]\n",
    "y_test = test[0]\n",
    "print(\"train: {},{}\".format(len(X_train),len(y_train)))"
   ],
   "metadata": {
    "collapsed": false,
    "pycharm": {
     "name": "#%%\n",
     "is_executing": false
    }
   }
  },
  {
   "cell_type": "code",
   "execution_count": null,
   "outputs": [],
   "source": [
    "from sklearn.neighbors import KNeighborsClassifier\n",
    "from sklearn.tree import DecisionTreeClassifier\n",
    "from sklearn.ensemble import RandomForestClassifier\n",
    "from sklearn.linear_model import LogisticRegression, SGDClassifier\n",
    "from sklearn.naive_bayes import MultinomialNB\n",
    "from sklearn.svm import SVC\n",
    "from sklearn.metrics import classification_report, accuracy_score, confusion_matrix\n",
    "\n",
    "\n",
    "# Modelos para treinar\n",
    "names = [\"K Nearest Neighbors\", \"Decision Tree\", \"Random Forest\", \"Logistic Regression\", \"SGD Classifier\",\n",
    "         \"Naive Bayes\", \"SVM Linear\"]\n",
    "\n",
    "classifiers = [\n",
    "    KNeighborsClassifier(),\n",
    "    DecisionTreeClassifier(),\n",
    "    RandomForestClassifier(n_estimators=1000, random_state=0, class_weight='balanced'),\n",
    "    LogisticRegression(solver='lbfgs', multi_class='multinomial'),\n",
    "    SGDClassifier(max_iter = 100, tol=1e-3),\n",
    "    SVC(kernel = 'linear')\n",
    "]\n",
    "\n",
    "models = zip(names, classifiers)\n",
    "\n",
    "for name, classifier in models:\n",
    "    classifier.fit(X_train, y_train)\n",
    "    y_pred = classifier.predict(X_test)\n",
    "    accuracy = accuracy_score(y_test, y_pred)*100\n",
    "    print(\"{} Accuracy: {}\".format(name, accuracy))"
   ],
   "metadata": {
    "collapsed": false,
    "pycharm": {
     "name": "#%%\n"
    }
   }
  },
  {
   "cell_type": "code",
   "execution_count": 61,
   "metadata": {
    "pycharm": {
     "is_executing": false
    }
   },
   "outputs": [
    {
     "name": "stdout",
     "text": [
      "Voting Classifier: Accuracy: 32.075471698113205\n"
     ],
     "output_type": "stream"
    }
   ],
   "source": [
    "# Classificador por votos\n",
    "from sklearn.ensemble import VotingClassifier\n",
    "\n",
    "names = [\"K Nearest Neighbors\", \"Decision Tree\", \"Random Forest\", \"Logistic Regression\", \"SGD Classifier\",\n",
    "         \"Naive Bayes\", \"SVM Linear\"]\n",
    "\n",
    "classifiers = [\n",
    "    KNeighborsClassifier(),\n",
    "    DecisionTreeClassifier(),\n",
    "    RandomForestClassifier(n_estimators=1000, random_state=0),\n",
    "    LogisticRegression(solver='lbfgs', multi_class='multinomial'),\n",
    "    SGDClassifier(max_iter = 100, tol=1e-3),\n",
    "    SVC(kernel = 'linear')\n",
    "]\n",
    "\n",
    "models = list(zip(names, classifiers))\n",
    "zipped_models_1 = models[:]\n",
    "zipped_models_2 = list(models)\n",
    "\n",
    "\n",
    "votingClassifier = VotingClassifier(estimators = zipped_models_2, voting = 'hard', n_jobs = -1)\n",
    "votingClassifier.fit(X_train, y_train)\n",
    "y_pred = votingClassifier.predict(X_test)\n",
    "accuracy = accuracy_score(y_test, y_pred)*100\n",
    "print(\"Voting Classifier: Accuracy: {}\".format(accuracy))"
   ]
  },
  {
   "cell_type": "code",
   "execution_count": 55,
   "metadata": {
    "pycharm": {
     "is_executing": false
    }
   },
   "outputs": [
    {
     "name": "stdout",
     "text": [
      "              precision    recall  f1-score   support\n\n       agrav       0.00      0.00      0.00         1\n       civil       0.43      0.45      0.44        40\n      embarg       0.25      0.80      0.39        35\n           n       0.25      0.03      0.05        35\n      outros       1.00      0.16      0.27        19\n     process       0.00      0.00      0.00         7\n      recurs       0.00      0.00      0.00        13\n  regimental       0.00      0.00      0.00         4\n         stj       0.00      0.00      0.00         3\n       sumul       0.00      0.00      0.00         2\n\n    accuracy                           0.31       159\n   macro avg       0.19      0.14      0.11       159\nweighted avg       0.34      0.31      0.24       159\n\n31.446540880503143\n"
     ],
     "output_type": "stream"
    },
    {
     "name": "stderr",
     "text": [
      "/home/audora/tcc/venv/lib/python3.6/site-packages/sklearn/metrics/classification.py:1437: UndefinedMetricWarning: Precision and F-score are ill-defined and being set to 0.0 in labels with no predicted samples.\n  'precision', 'predicted', average, warn_for)\n"
     ],
     "output_type": "stream"
    }
   ],
   "source": [
    "# relatório de classificação\n",
    "\n",
    "from sklearn.metrics import classification_report, confusion_matrix, accuracy_score\n",
    "\n",
    "#print(confusion_matrix(y_test,y_pred))\n",
    "print(classification_report(y_test,y_pred))\n",
    "print((accuracy_score(y_test, y_pred)*100))"
   ]
  },
  {
   "cell_type": "code",
   "execution_count": 74,
   "metadata": {
    "pycharm": {
     "is_executing": false
    }
   },
   "outputs": [
    {
     "name": "stdout",
     "text": [
      "train: 22,22\n"
     ],
     "output_type": "stream"
    },
    {
     "data": {
      "text/plain": "[('agrav', 2),\n ('civil', 2),\n ('embarg', 2),\n ('especial', 2),\n ('n', 2),\n ('outros', 2),\n ('process', 2),\n ('recurs', 2),\n ('regimental', 2),\n ('stj', 2),\n ('sumul', 2)]"
     },
     "metadata": {},
     "output_type": "execute_result",
     "execution_count": 74
    }
   ],
   "source": [
    "# usando undersampling\n",
    "from imblearn.under_sampling import RandomUnderSampler\n",
    "\n",
    "rus = RandomUnderSampler(sampling_strategy='not minority', random_state=0)\n",
    "rus.fit(X_train, y_train)\n",
    "X_resampled, y_resampled = rus.fit_resample(X_train, y_train)\n",
    "print(\"train: {},{}\".format(len(X_resampled),len(y_resampled)))\n",
    "\n",
    "series = []\n",
    "for y in y_resampled:\n",
    "    series.append(y)\n",
    "    \n",
    "nltk.FreqDist(series).most_common(20)"
   ]
  },
  {
   "cell_type": "code",
   "execution_count": 75,
   "metadata": {
    "pycharm": {
     "is_executing": false
    }
   },
   "outputs": [
    {
     "name": "stdout",
     "text": [
      "K Nearest Neighbors Accuracy: 3.7735849056603774\nDecision Tree Accuracy: 8.176100628930817\n",
      "Random Forest Accuracy: 10.062893081761008\nLogistic Regression Accuracy: 10.062893081761008\nSGD Classifier Accuracy: 1.8867924528301887\nNaive Bayes Accuracy: 5.660377358490567\n"
     ],
     "output_type": "stream"
    }
   ],
   "source": [
    "# Fazendo a mesma análisa usando undersampling\n",
    "\n",
    "from sklearn.neighbors import KNeighborsClassifier\n",
    "from sklearn.tree import DecisionTreeClassifier\n",
    "from sklearn.ensemble import RandomForestClassifier\n",
    "from sklearn.linear_model import LogisticRegression, SGDClassifier\n",
    "from sklearn.naive_bayes import MultinomialNB\n",
    "from sklearn.svm import SVC\n",
    "from sklearn.metrics import classification_report, accuracy_score, confusion_matrix\n",
    "\n",
    "\n",
    "# Modelos para treinar\n",
    "names = [\"K Nearest Neighbors\", \"Decision Tree\", \"Random Forest\", \"Logistic Regression\", \"SGD Classifier\",\n",
    "         \"Naive Bayes\", \"SVM Linear\"]\n",
    "\n",
    "classifiers = [\n",
    "    KNeighborsClassifier(),\n",
    "    DecisionTreeClassifier(),\n",
    "    RandomForestClassifier(n_estimators=1000, random_state=0, class_weight='balanced'),\n",
    "    LogisticRegression(solver='lbfgs', multi_class='multinomial'),\n",
    "    SGDClassifier(max_iter = 100, tol=1e-3),\n",
    "    SVC(kernel = 'linear')\n",
    "]\n",
    "\n",
    "models = zip(names, classifiers)\n",
    "\n",
    "for name, classifier in models:\n",
    "    classifier.fit(X_resampled, y_resampled)\n",
    "    y_pred = classifier.predict(X_test)\n",
    "    accuracy = accuracy_score(y_test, y_pred)*100\n",
    "    print(\"{} Accuracy: {}\".format(name, accuracy))"
   ]
  },
  {
   "cell_type": "code",
   "execution_count": 76,
   "metadata": {
    "pycharm": {
     "is_executing": false
    }
   },
   "outputs": [
    {
     "name": "stdout",
     "text": [
      "Voting Classifier: Accuracy: 5.660377358490567\n"
     ],
     "output_type": "stream"
    }
   ],
   "source": [
    "# Classificador por votos\n",
    "from sklearn.ensemble import VotingClassifier\n",
    "\n",
    "names = [\"K Nearest Neighbors\", \"Decision Tree\", \"Random Forest\", \"Logistic Regression\", \"SGD Classifier\",\n",
    "         \"Naive Bayes\", \"SVM Linear\"]\n",
    "\n",
    "classifiers = [\n",
    "    KNeighborsClassifier(),\n",
    "    DecisionTreeClassifier(),\n",
    "    RandomForestClassifier(n_estimators=1000, random_state=0, class_weight='balanced'),\n",
    "    LogisticRegression(solver='lbfgs', multi_class='multinomial'),\n",
    "    SGDClassifier(max_iter = 100, tol=1e-3),\n",
    "    SVC(kernel = 'linear')\n",
    "]\n",
    "\n",
    "models = list(zip(names, classifiers))\n",
    "zipped_models_1 = models[:]\n",
    "zipped_models_2 = list(models)\n",
    "\n",
    "\n",
    "votingClassifier = VotingClassifier(estimators = zipped_models_2, voting = 'hard', n_jobs = -1)\n",
    "votingClassifier.fit(X_resampled, y_resampled)\n",
    "y_pred = votingClassifier.predict(X_test)\n",
    "accuracy = accuracy_score(y_test, y_pred)*100\n",
    "print(\"Voting Classifier: Accuracy: {}\".format(accuracy))"
   ]
  },
  {
   "cell_type": "code",
   "execution_count": 59,
   "metadata": {
    "pycharm": {
     "is_executing": false
    }
   },
   "outputs": [
    {
     "name": "stdout",
     "text": [
      "              precision    recall  f1-score   support\n\n       agrav       1.00      1.00      1.00         1\n       civil       0.28      0.97      0.44        40\n      embarg       0.00      0.00      0.00        35\n           n       0.40      0.06      0.10        35\n      outros       0.21      0.16      0.18        19\n     process       0.00      0.00      0.00         7\n      recurs       0.00      0.00      0.00        13\n  regimental       0.00      0.00      0.00         4\n         stj       0.00      0.00      0.00         3\n       sumul       0.00      0.00      0.00         2\n\n    accuracy                           0.28       159\n   macro avg       0.19      0.22      0.17       159\nweighted avg       0.19      0.28      0.16       159\n\n28.30188679245283\n"
     ],
     "output_type": "stream"
    },
    {
     "name": "stderr",
     "text": [
      "/home/audora/tcc/venv/lib/python3.6/site-packages/sklearn/metrics/classification.py:1437: UndefinedMetricWarning: Precision and F-score are ill-defined and being set to 0.0 in labels with no predicted samples.\n  'precision', 'predicted', average, warn_for)\n"
     ],
     "output_type": "stream"
    }
   ],
   "source": [
    "# relatório de classificação\n",
    "\n",
    "from sklearn.metrics import classification_report, confusion_matrix, accuracy_score\n",
    "\n",
    "#print(confusion_matrix(y_test,y_pred))\n",
    "print(classification_report(y_test,y_pred))\n",
    "print((accuracy_score(y_test, y_pred)*100))"
   ]
  }
 ],
 "metadata": {
  "kernelspec": {
   "name": "pycharm-65cc7394",
   "language": "python",
   "display_name": "PyCharm (tcc)"
  },
  "language_info": {
   "codemirror_mode": {
    "name": "ipython",
    "version": 3
   },
   "file_extension": ".py",
   "mimetype": "text/x-python",
   "name": "python",
   "nbconvert_exporter": "python",
   "pygments_lexer": "ipython3",
   "version": "3.7.3"
  },
  "pycharm": {
   "stem_cell": {
    "cell_type": "raw",
    "source": [],
    "metadata": {
     "collapsed": false
    }
   }
  }
 },
 "nbformat": 4,
 "nbformat_minor": 4
}