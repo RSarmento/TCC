{
 "cells": [
  {
   "cell_type": "code",
   "execution_count": 1,
   "metadata": {},
   "outputs": [
    {
     "name": "stdout",
     "output_type": "stream",
     "text": [
      "3.6.3 (default, Oct  3 2017, 21:45:48) \n",
      "[GCC 7.2.0] linux /home/audora/tcc/venv/bin/python3\n"
     ]
    }
   ],
   "source": [
    "import sys\n",
    "print(sys.version, sys.platform, sys.executable)"
   ]
  },
  {
   "cell_type": "code",
   "execution_count": 2,
   "metadata": {},
   "outputs": [
    {
     "name": "stdout",
     "output_type": "stream",
     "text": [
      "<class 'pandas.core.frame.DataFrame'>\n",
      "RangeIndex: 793 entries, 0 to 792\n",
      "Data columns (total 2 columns):\n",
      "0    793 non-null object\n",
      "1    793 non-null object\n",
      "dtypes: object(2)\n",
      "memory usage: 12.5+ KB\n",
      "None\n",
      "                  0                                                  1\n",
      "0     mand seguranc  inexecuca contrat sanca afast reexam prov clau...\n",
      "1     respons civil  acident aer decretol n dol eventual respons at...\n",
      "2  processual civil  intimaca art cpc irregular nao comprov recurs ...\n",
      "3     process civil  honorari execuca legitim part superior tribuna...\n",
      "4         administr  servidor public artig lei n artig lei n revoga...\n"
     ]
    }
   ],
   "source": [
    "# Carregando dados\n",
    "import pandas as pd\n",
    "import numpy as np\n",
    "\n",
    "df = pd.read_csv('data/dataset_classes.txt', header=None, encoding='utf-8', sep='\\t')\n",
    "print(df.info())\n",
    "print(df.head())"
   ]
  },
  {
   "cell_type": "code",
   "execution_count": 3,
   "metadata": {},
   "outputs": [],
   "source": [
    "from gensim.models import doc2vec, Doc2Vec\n",
    "\n",
    "\n",
    "def label_sentences(corpus, label_type):\n",
    "    \"\"\"\n",
    "    Gensim's Doc2Vec implementation requires each document/paragraph to have a label associated with it.\n",
    "    We do this by using the TaggedDocument method. The format will be \"TRAIN_i\" or \"TEST_i\" where \"i\" is\n",
    "    a dummy index of the post.\n",
    "    \"\"\"\n",
    "    labeled = []\n",
    "    for i, v in enumerate(corpus):\n",
    "        label = label_type + '_' + str(i)\n",
    "        labeled.append(doc2vec.TaggedDocument(v.split(), [label]))\n",
    "    return labeled\n"
   ]
  },
  {
   "cell_type": "code",
   "execution_count": 4,
   "metadata": {},
   "outputs": [],
   "source": [
    "from sklearn.model_selection import train_test_split\n",
    "\n",
    "X_train, X_test, y_train, y_test = train_test_split(df[0], df[1], random_state=0, test_size=0.3)\n",
    "X_train = label_sentences(X_train, 'Train')\n",
    "X_test = label_sentences(X_test, 'Test')\n",
    "all_data = X_train + X_test"
   ]
  },
  {
   "cell_type": "code",
   "execution_count": 5,
   "metadata": {},
   "outputs": [
    {
     "name": "stderr",
     "output_type": "stream",
     "text": [
      "100%|██████████| 793/793 [00:00<00:00, 476243.28it/s]\n",
      "100%|██████████| 793/793 [00:00<00:00, 831312.94it/s]\n",
      "100%|██████████| 793/793 [00:00<00:00, 1516681.75it/s]\n",
      "100%|██████████| 793/793 [00:00<00:00, 1084120.95it/s]\n",
      "100%|██████████| 793/793 [00:00<00:00, 2590407.38it/s]\n",
      "100%|██████████| 793/793 [00:00<00:00, 1318827.55it/s]\n",
      "100%|██████████| 793/793 [00:00<00:00, 1067078.30it/s]\n",
      "100%|██████████| 793/793 [00:00<00:00, 606064.70it/s]\n",
      "100%|██████████| 793/793 [00:00<00:00, 1744144.24it/s]\n",
      "100%|██████████| 793/793 [00:00<00:00, 672071.75it/s]\n",
      "100%|██████████| 793/793 [00:00<00:00, 499787.09it/s]\n",
      "100%|██████████| 793/793 [00:00<00:00, 1620108.66it/s]\n",
      "100%|██████████| 793/793 [00:00<00:00, 195617.42it/s]\n",
      "100%|██████████| 793/793 [00:00<00:00, 713904.93it/s]\n",
      "100%|██████████| 793/793 [00:00<00:00, 347516.78it/s]\n",
      "100%|██████████| 793/793 [00:00<00:00, 1487514.79it/s]\n",
      "100%|██████████| 793/793 [00:00<00:00, 962965.57it/s]\n",
      "100%|██████████| 793/793 [00:00<00:00, 726219.01it/s]\n",
      "100%|██████████| 793/793 [00:00<00:00, 363784.65it/s]\n",
      "100%|██████████| 793/793 [00:00<00:00, 110189.93it/s]\n",
      "100%|██████████| 793/793 [00:00<00:00, 916528.82it/s]\n",
      "100%|██████████| 793/793 [00:00<00:00, 581889.97it/s]\n",
      "100%|██████████| 793/793 [00:00<00:00, 1252761.99it/s]\n",
      "100%|██████████| 793/793 [00:00<00:00, 701557.28it/s]\n",
      "100%|██████████| 793/793 [00:00<00:00, 198726.36it/s]\n",
      "100%|██████████| 793/793 [00:00<00:00, 1367070.72it/s]\n",
      "100%|██████████| 793/793 [00:00<00:00, 240167.74it/s]\n",
      "100%|██████████| 793/793 [00:00<00:00, 1292184.57it/s]\n",
      "100%|██████████| 793/793 [00:00<00:00, 1702191.95it/s]\n",
      "100%|██████████| 793/793 [00:00<00:00, 1557155.00it/s]\n",
      "100%|██████████| 793/793 [00:00<00:00, 2540934.36it/s]\n"
     ]
    }
   ],
   "source": [
    "from tqdm import tqdm\n",
    "from sklearn import utils\n",
    "\n",
    "\n",
    "tqdm.pandas(desc=\"progress-bar\")\n",
    "\n",
    "model_dbow = Doc2Vec(dm=0, vector_size=300, negative=5, min_count=1, alpha=0.065, min_alpha=0.065)\n",
    "model_dbow.build_vocab([x for x in tqdm(all_data)])\n",
    "\n",
    "for epoch in range(30):\n",
    "    model_dbow.train(utils.shuffle([x for x in tqdm(all_data)]), total_examples=len(all_data), epochs=1)\n",
    "    model_dbow.alpha -= 0.002\n",
    "    model_dbow.min_alpha = model_dbow.alpha"
   ]
  },
  {
   "cell_type": "code",
   "execution_count": 6,
   "metadata": {},
   "outputs": [],
   "source": [
    "def get_vectors(model, corpus_size, vectors_size, vectors_type):\n",
    "    \"\"\"\n",
    "    Get vectors from trained doc2vec model\n",
    "    :param doc2vec_model: Trained Doc2Vec model\n",
    "    :param corpus_size: Size of the data\n",
    "    :param vectors_size: Size of the embedding vectors\n",
    "    :param vectors_type: Training or Testing vectors\n",
    "    :return: list of vectors\n",
    "    \"\"\"\n",
    "    vectors = np.zeros((corpus_size, vectors_size))\n",
    "    for i in range(0, corpus_size):\n",
    "        prefix = vectors_type + '_' + str(i)\n",
    "        vectors[i] = model.docvecs[prefix]\n",
    "    return vectors\n",
    "    \n",
    "train_vectors_dbow = get_vectors(model_dbow, len(X_train), 300, 'Train')\n",
    "test_vectors_dbow = get_vectors(model_dbow, len(X_test), 300, 'Test')"
   ]
  },
  {
   "cell_type": "code",
   "execution_count": 11,
   "metadata": {},
   "outputs": [
    {
     "name": "stdout",
     "output_type": "stream",
     "text": [
      "accuracy 0.42016806722689076\n"
     ]
    }
   ],
   "source": [
    "from sklearn.linear_model import LogisticRegression\n",
    "from sklearn.metrics import accuracy_score, classification_report\n",
    "\n",
    "logreg = LogisticRegression(solver='lbfgs', multi_class='multinomial')\n",
    "logreg.fit(train_vectors_dbow, y_train)\n",
    "logreg = logreg.fit(train_vectors_dbow, y_train)\n",
    "y_pred = logreg.predict(test_vectors_dbow)\n",
    "print('accuracy %s' % (accuracy_score(y_test, y_pred)*100))\n",
    "# print(classification_report(y_test, y_pred,target_names=my_tags))"
   ]
  },
  {
   "cell_type": "code",
   "execution_count": 12,
   "metadata": {},
   "outputs": [
    {
     "name": "stdout",
     "output_type": "stream",
     "text": [
      "K Nearest Neighbors Accuracy: 0.42016806722689076\n",
      "Decision Tree Accuracy: 0.42016806722689076\n",
      "Random Forest Accuracy: 0.42016806722689076\n",
      "Logistic Regression Accuracy: 0.42016806722689076\n",
      "SGD Classifier Accuracy: 0.0\n",
      "Naive Bayes Accuracy: 0.42016806722689076\n"
     ]
    }
   ],
   "source": [
    "from sklearn.neighbors import KNeighborsClassifier\n",
    "from sklearn.tree import DecisionTreeClassifier\n",
    "from sklearn.ensemble import RandomForestClassifier\n",
    "from sklearn.linear_model import LogisticRegression, SGDClassifier\n",
    "from sklearn.naive_bayes import MultinomialNB\n",
    "from sklearn.svm import SVC\n",
    "from sklearn.metrics import classification_report, accuracy_score, confusion_matrix\n",
    "\n",
    "\n",
    "# Modelos para treinar\n",
    "names = [\"K Nearest Neighbors\", \"Decision Tree\", \"Random Forest\", \"Logistic Regression\", \"SGD Classifier\",\n",
    "         \"Naive Bayes\", \"SVM Linear\"]\n",
    "\n",
    "classifiers = [\n",
    "    KNeighborsClassifier(),\n",
    "    DecisionTreeClassifier(),\n",
    "    RandomForestClassifier(n_estimators=1000, random_state=0),\n",
    "    LogisticRegression(solver='lbfgs', multi_class='multinomial'),\n",
    "    SGDClassifier(max_iter = 100, tol=1e-3),\n",
    "    SVC(kernel = 'linear')\n",
    "]\n",
    "\n",
    "models = zip(names, classifiers)\n",
    "\n",
    "for name, classifier in models:\n",
    "    classifier.fit(train_vectors_dbow, y_train)\n",
    "    y_pred = classifier.predict(test_vectors_dbow)\n",
    "    accuracy = accuracy_score(y_test, y_pred)*100\n",
    "    print(\"{} Accuracy: {}\".format(name, accuracy))"
   ]
  },
  {
   "cell_type": "code",
   "execution_count": null,
   "metadata": {},
   "outputs": [],
   "source": [
    "# Classificador por votos\n",
    "from sklearn.ensemble import VotingClassifier\n",
    "\n",
    "names = [\"K Nearest Neighbors\", \"Decision Tree\", \"Random Forest\", \"Logistic Regression\", \"SGD Classifier\",\n",
    "         \"Naive Bayes\", \"SVM Linear\"]\n",
    "\n",
    "classifiers = [\n",
    "    KNeighborsClassifier(),\n",
    "    DecisionTreeClassifier(),\n",
    "    RandomForestClassifier(n_estimators=1000, random_state=0),\n",
    "    LogisticRegression(solver='lbfgs', multi_class='multinomial'),\n",
    "    SGDClassifier(max_iter = 100, tol=1e-3),\n",
    "    SVC(kernel = 'linear')\n",
    "]\n",
    "\n",
    "models = list(zip(names, classifiers))\n",
    "zipped_models_1 = models[:]\n",
    "zipped_models_2 = list(models)\n",
    "\n",
    "\n",
    "votingClassifier = VotingClassifier(estimators = zipped_models_2, voting = 'hard', n_jobs = -1)\n",
    "votingClassifier.fit(X_train, y_train)\n",
    "y_pred = votingClassifier.predict(X_test)\n",
    "accuracy = accuracy_score(y_test, y_pred)*100\n",
    "print(\"Voting Classifier: Accuracy: {}\".format(accuracy))"
   ]
  },
  {
   "cell_type": "code",
   "execution_count": null,
   "metadata": {},
   "outputs": [],
   "source": [
    "# relatório de classificação\n",
    "\n",
    "from sklearn.metrics import classification_report, confusion_matrix, accuracy_score\n",
    "\n",
    "print(confusion_matrix(y_test,y_pred))\n",
    "print(classification_report(y_test,y_pred))\n",
    "print((accuracy_score(y_test, y_pred)*100))"
   ]
  }
 ],
 "metadata": {
  "kernelspec": {
   "display_name": "Python 3",
   "language": "python",
   "name": "python3"
  },
  "language_info": {
   "codemirror_mode": {
    "name": "ipython",
    "version": 3
   },
   "file_extension": ".py",
   "mimetype": "text/x-python",
   "name": "python",
   "nbconvert_exporter": "python",
   "pygments_lexer": "ipython3",
   "version": "3.6.3"
  },
  "pycharm": {
   "stem_cell": {
    "cell_type": "raw",
    "metadata": {
     "collapsed": false
    },
    "source": []
   }
  }
 },
 "nbformat": 4,
 "nbformat_minor": 4
}
